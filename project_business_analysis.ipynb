{
 "cells": [
  {
   "cell_type": "code",
   "execution_count": 4,
   "id": "1b2ea22d-9fa0-497c-afac-b4a104713d21",
   "metadata": {},
   "outputs": [],
   "source": [
    "import pandas as pd\n",
    "import matplotlib.pyplot as plt\n",
    "import seaborn as sns"
   ]
  },
  {
   "cell_type": "code",
   "execution_count": 5,
   "id": "a192ebbf-d43d-41f6-b78e-168c90283ed2",
   "metadata": {},
   "outputs": [],
   "source": [
    "# Importing the data\n",
    "df_users_original = pd.read_csv('data/users_table.csv')\n",
    "df_country_original = pd.read_csv('data/country_table.csv')\n",
    "df_events_original = pd.read_csv('data/events_table.csv')\n",
    "df_testing_original = pd.read_csv('data/testing_table.csv')"
   ]
  },
  {
   "cell_type": "markdown",
   "id": "944857aa-d214-4c32-90a4-d90920056f99",
   "metadata": {},
   "source": []
  },
  {
   "cell_type": "markdown",
   "id": "8fa0dc3b-1e3b-40e6-ba80-557aa1e7b1a1",
   "metadata": {},
   "source": [
    "FUNCTIONS FOR DATA EXPLORATION"
   ]
  },
  {
   "cell_type": "code",
   "execution_count": 33,
   "id": "2250409a-17bf-4c9b-b8c4-6e48a07a9d76",
   "metadata": {},
   "outputs": [],
   "source": [
    "def table_overlook(table):\n",
    "    '''function to display relevant info in a table'''\n",
    "    print(\"\\n\\nTHE FIRST 5 ROWS:\\n\")\n",
    "    print(table.head())  \n",
    "\n",
    "    print(\"\\n\\nTABLE SHAPE:\\n\")\n",
    "    print(table.shape)  \n",
    "\n",
    "    print(\"\\n\\nTABLE INFO:\\n\")\n",
    "    print(table.info())  "
   ]
  },
  {
   "cell_type": "code",
   "execution_count": 41,
   "id": "8a7a069d-4fdf-4658-86b0-b36216e30b04",
   "metadata": {},
   "outputs": [],
   "source": [
    "def duplicate_check(table):\n",
    "    '''function to check duplicate values within columns of a table'''\n",
    "    print(table.loc[table.duplicated()])"
   ]
  },
  {
   "cell_type": "code",
   "execution_count": 46,
   "id": "01560c0a-57ee-4a94-85c1-b86d8756de27",
   "metadata": {},
   "outputs": [],
   "source": [
    "def placeholder_checker(table):\n",
    "    '''It checks for placeholder values that indicate missing information'''\n",
    "    placeholder_checks = table.isin(['unknown', 'na', 'n/a', 'select', 'none', '?']).sum()\n",
    "    print(placeholder_checks)"
   ]
  },
  {
   "cell_type": "code",
   "execution_count": null,
   "id": "272b9df7-63f2-4e2f-a187-db034ecce72c",
   "metadata": {},
   "outputs": [],
   "source": []
  },
  {
   "cell_type": "markdown",
   "id": "60af99de-6024-4247-a6bd-a57a02fce7bd",
   "metadata": {},
   "source": [
    "USERS DATAFRAME - DATA EXPLORATION"
   ]
  },
  {
   "cell_type": "code",
   "execution_count": 6,
   "id": "0836439a-770e-4d96-bc9f-6127596d8818",
   "metadata": {},
   "outputs": [],
   "source": [
    "# Keeping an original copy\n",
    "df_users = df_users_original.copy()"
   ]
  },
  {
   "cell_type": "markdown",
   "id": "cfd4a6f0-7117-43be-b49d-3b521bc7fb80",
   "metadata": {},
   "source": []
  },
  {
   "cell_type": "code",
   "execution_count": 34,
   "id": "1d585db4-dddf-4ead-a729-45a2faf04059",
   "metadata": {},
   "outputs": [
    {
     "name": "stdout",
     "output_type": "stream",
     "text": [
      "\n",
      "\n",
      "THE FIRST 5 ROWS:\n",
      "\n",
      "   user_id gender  country_id        age\n",
      "0        1      F           2  38.511265\n",
      "1        2      F           2  45.765914\n",
      "2        3    NaN           3  49.706807\n",
      "3        4    NaN           1  25.539470\n",
      "4        5      F           2  39.200308\n",
      "\n",
      "\n",
      "TABLE SHAPE:\n",
      "\n",
      "(987976, 4)\n",
      "\n",
      "\n",
      "TABLE INFO:\n",
      "\n",
      "<class 'pandas.core.frame.DataFrame'>\n",
      "RangeIndex: 987976 entries, 0 to 987975\n",
      "Data columns (total 4 columns):\n",
      " #   Column      Non-Null Count   Dtype  \n",
      "---  ------      --------------   -----  \n",
      " 0   user_id     987976 non-null  int64  \n",
      " 1   gender      741692 non-null  object \n",
      " 2   country_id  987976 non-null  int64  \n",
      " 3   age         987976 non-null  float64\n",
      "dtypes: float64(1), int64(2), object(1)\n",
      "memory usage: 30.2+ MB\n",
      "None\n"
     ]
    }
   ],
   "source": [
    "table_overlook(df_users)"
   ]
  },
  {
   "cell_type": "markdown",
   "id": "d3a9c3e8-5a90-47eb-9331-9c89498da79e",
   "metadata": {},
   "source": []
  },
  {
   "cell_type": "markdown",
   "id": "10591abf-1b33-49d9-8ef5-1dadd429de4d",
   "metadata": {},
   "source": [
    "We can already see the presence of Null values in the Gender column. The data type though is matching the expected format."
   ]
  },
  {
   "cell_type": "markdown",
   "id": "e9c214f5-c034-4402-a971-6236b82b0b52",
   "metadata": {},
   "source": []
  },
  {
   "cell_type": "code",
   "execution_count": 42,
   "id": "89e3a5f2-5b78-4c05-b09c-179435ecd7b5",
   "metadata": {},
   "outputs": [
    {
     "name": "stdout",
     "output_type": "stream",
     "text": [
      "Empty DataFrame\n",
      "Columns: [user_id, gender, country_id, age]\n",
      "Index: []\n"
     ]
    }
   ],
   "source": [
    "duplicate_check(df_users)"
   ]
  },
  {
   "cell_type": "markdown",
   "id": "cff2e50d-ed50-4d54-8d2d-ea356ecc8cc0",
   "metadata": {},
   "source": []
  },
  {
   "cell_type": "markdown",
   "id": "c492f948-ae39-4ca2-9671-1197c592fd04",
   "metadata": {},
   "source": [
    "No duplicates in this tables."
   ]
  },
  {
   "cell_type": "markdown",
   "id": "cb9e0568-a43f-4004-a5a7-f214f3a22429",
   "metadata": {},
   "source": []
  },
  {
   "cell_type": "code",
   "execution_count": 47,
   "id": "c45eb576-386a-4072-aa07-d00369675ff3",
   "metadata": {},
   "outputs": [
    {
     "name": "stdout",
     "output_type": "stream",
     "text": [
      "user_id       0\n",
      "gender        0\n",
      "country_id    0\n",
      "age           0\n",
      "dtype: int64\n"
     ]
    }
   ],
   "source": [
    "# Checking for placeholder values that indicate missing information\n",
    "placeholder_checker(df_users)"
   ]
  },
  {
   "cell_type": "markdown",
   "id": "e0e564f1-64c1-4bab-b14f-184f0a248be8",
   "metadata": {},
   "source": []
  },
  {
   "cell_type": "markdown",
   "id": "500d4d8c-8661-4e6d-b076-fad8930b7f70",
   "metadata": {},
   "source": [
    "Everything seems alright, except the NaN values in the Gender column. Let's do a last check for invalid entries in the Age column, for example values that are below 0 or above 100."
   ]
  },
  {
   "cell_type": "code",
   "execution_count": 48,
   "id": "ffcd50a3-cbe6-4543-b89c-940d86ddd28a",
   "metadata": {},
   "outputs": [
    {
     "data": {
      "text/html": [
       "<div>\n",
       "<style scoped>\n",
       "    .dataframe tbody tr th:only-of-type {\n",
       "        vertical-align: middle;\n",
       "    }\n",
       "\n",
       "    .dataframe tbody tr th {\n",
       "        vertical-align: top;\n",
       "    }\n",
       "\n",
       "    .dataframe thead th {\n",
       "        text-align: right;\n",
       "    }\n",
       "</style>\n",
       "<table border=\"1\" class=\"dataframe\">\n",
       "  <thead>\n",
       "    <tr style=\"text-align: right;\">\n",
       "      <th></th>\n",
       "      <th>user_id</th>\n",
       "      <th>gender</th>\n",
       "      <th>country_id</th>\n",
       "      <th>age</th>\n",
       "    </tr>\n",
       "  </thead>\n",
       "  <tbody>\n",
       "  </tbody>\n",
       "</table>\n",
       "</div>"
      ],
      "text/plain": [
       "Empty DataFrame\n",
       "Columns: [user_id, gender, country_id, age]\n",
       "Index: []"
      ]
     },
     "execution_count": 48,
     "metadata": {},
     "output_type": "execute_result"
    }
   ],
   "source": [
    "invalid_age_entries = df_users[(df_users['age'] < 0) | (df_users['age'] > 100)]\n",
    "invalid_age_entries"
   ]
  },
  {
   "cell_type": "markdown",
   "id": "8a28d658-a841-48c0-b4ed-695c2750fbed",
   "metadata": {},
   "source": []
  },
  {
   "cell_type": "markdown",
   "id": "c462db84-2520-4184-bab7-1de9d4d88ac0",
   "metadata": {},
   "source": [
    "We are done with exploration for the users dataframe, we can move to data cleaning. "
   ]
  },
  {
   "cell_type": "markdown",
   "id": "23404265-6564-40cd-9f60-19c8deca3eb7",
   "metadata": {},
   "source": []
  },
  {
   "cell_type": "markdown",
   "id": "3467ed83-20e9-492d-bf79-5ebd81ef70a2",
   "metadata": {},
   "source": [
    "USERS DATAFRAME - DATA CLEANING"
   ]
  },
  {
   "cell_type": "markdown",
   "id": "0ca61edd-892a-477a-aff6-e691457fb902",
   "metadata": {},
   "source": [
    "The only thing to do here is to fix the presence of NaN values."
   ]
  },
  {
   "cell_type": "code",
   "execution_count": 60,
   "id": "8034c0a9-85c0-4302-ae56-59d3ded03c1e",
   "metadata": {},
   "outputs": [
    {
     "name": "stdout",
     "output_type": "stream",
     "text": [
      "Null values: 246284\n",
      "Percentage: 24.93 %\n",
      "\n"
     ]
    }
   ],
   "source": [
    "# Checking how many NaN we have\n",
    "\n",
    "print(\"Null values:\", df_users['gender'].isna().sum())\n",
    "print(\"Percentage:\", round((df_users['gender'].isna().sum()/len(df_users))*100, 2), \"%\\n\")"
   ]
  },
  {
   "cell_type": "markdown",
   "id": "af60970d-17f8-4c7e-912c-c60b2e0c4066",
   "metadata": {},
   "source": []
  }
 ],
 "metadata": {
  "kernelspec": {
   "display_name": "Python 3 (ipykernel)",
   "language": "python",
   "name": "python3"
  },
  "language_info": {
   "codemirror_mode": {
    "name": "ipython",
    "version": 3
   },
   "file_extension": ".py",
   "mimetype": "text/x-python",
   "name": "python",
   "nbconvert_exporter": "python",
   "pygments_lexer": "ipython3",
   "version": "3.11.5"
  }
 },
 "nbformat": 4,
 "nbformat_minor": 5
}
